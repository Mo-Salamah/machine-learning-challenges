{
 "cells": [
  {
   "cell_type": "code",
   "execution_count": 2,
   "metadata": {},
   "outputs": [],
   "source": [
    "# load packages\n",
    "import numpy as np\n",
    "import pandas as pd\n",
    "import matplotlib.pyplot as plt\n",
    "\n",
    "from sklearn.datasets import fetch_openml\n",
    "\n",
    "from sklearn.model_selection import cross_val_score\n",
    "from sklearn.model_selection import cross_val_predict\n",
    "\n",
    "from sklearn.metrics import roc_curve\n",
    "from sklearn.metrics import confusion_matrix"
   ]
  },
  {
   "cell_type": "code",
   "execution_count": 4,
   "metadata": {},
   "outputs": [
    {
     "data": {
      "text/plain": [
       "dict_keys(['data', 'target', 'frame', 'categories', 'feature_names', 'target_names', 'DESCR', 'details', 'url'])"
      ]
     },
     "execution_count": 4,
     "metadata": {},
     "output_type": "execute_result"
    }
   ],
   "source": [
    "# load data\n",
    "mnist = fetch_openml('mnist_784', version=1)\n",
    "mnist.keys()"
   ]
  },
  {
   "cell_type": "code",
   "execution_count": 44,
   "metadata": {},
   "outputs": [],
   "source": [
    "# split to train and test sets\n",
    "X, y = mnist['data'], mnist['target']\n",
    "X_train, X_test = X[:60000], X[60000:]\n",
    "y_train, y_test = y[:60000].astype('int'), y[60000:].astype('int')"
   ]
  },
  {
   "cell_type": "code",
   "execution_count": 45,
   "metadata": {},
   "outputs": [],
   "source": [
    "def plot_digit(vector):\n",
    "    \"\"\"takes a 784 length vector and produces\n",
    "        a plot of the digit\n",
    "    Args:\n",
    "        vector (itterable): 784 length with floats from 0 to 255\n",
    "    \"\"\"\n",
    "    digit = np.array(vector).reshape((28, 28))\n",
    "    plt.imshow(digit, cmap='binary')\n",
    "    plt.axis('off')\n",
    "    plt.show()"
   ]
  },
  {
   "cell_type": "code",
   "execution_count": 46,
   "metadata": {},
   "outputs": [
    {
     "data": {
      "image/png": "[encoded data removed]",
      "text/plain": [
       "<Figure size 640x480 with 1 Axes>"
      ]
     },
     "metadata": {},
     "output_type": "display_data"
    }
   ],
   "source": [
    "# visualize one digit example\n",
    "some_digit = X_train.iloc[0]\n",
    "plot_digit(some_digit)\n"
   ]
  },
  {
   "cell_type": "code",
   "execution_count": 48,
   "metadata": {},
   "outputs": [],
   "source": [
    "# simplify classification problem\n",
    "\n",
    "# two classes: true if 8, false otherwise\n",
    "y_train_8 = (y_train == 8)\n",
    "y_test_8 = (y_test == 8)"
   ]
  },
  {
   "cell_type": "code",
   "execution_count": 49,
   "metadata": {},
   "outputs": [],
   "source": [
    "# train a classification model\n",
    "from sklearn.linear_model import SGDClassifier\n",
    "from sklearn.base import clone\n",
    "\n",
    "sgd_clf = SGDClassifier() # no parameters? what cost function is default?\n",
    "sgd_clf.fit(X_train, y_train_8)\n",
    "y_pred_8 = sgd_clf.predict(X_test)"
   ]
  },
  {
   "cell_type": "code",
   "execution_count": 52,
   "metadata": {},
   "outputs": [
    {
     "data": {
      "text/plain": [
       "array([[8906,  120],\n",
       "       [ 541,  433]])"
      ]
     },
     "execution_count": 52,
     "metadata": {},
     "output_type": "execute_result"
    }
   ],
   "source": [
    "# understand errors of the model\n",
    "from sklearn.metrics import confusion_matrix\n",
    "from sklearn.metrics import plot_confusion_matrix\n",
    "from sklearn.metrics import ConfusionMatrixDisplay\n",
    "\n",
    "confusion_matrix(y_true=y_test_8, y_pred=y_pred_8)\n"
   ]
  },
  {
   "cell_type": "code",
   "execution_count": 55,
   "metadata": {},
   "outputs": [
    {
     "data": {
      "text/plain": [
       "<sklearn.metrics._plot.confusion_matrix.ConfusionMatrixDisplay at 0x7fad79065fa0>"
      ]
     },
     "execution_count": 55,
     "metadata": {},
     "output_type": "execute_result"
    },
    {
     "data": {
      "text/plain": [
       "<Figure size 400x400 with 0 Axes>"
      ]
     },
     "metadata": {},
     "output_type": "display_data"
    },
    {
     "data": {
      "image/png": "[encoded data removed]",
      "text/plain": [
       "<Figure size 640x480 with 2 Axes>"
      ]
     },
     "metadata": {},
     "output_type": "display_data"
    }
   ],
   "source": [
    "plt.figure(figsize=(4,4))\n",
    "ConfusionMatrixDisplay.from_predictions(y_true=y_test_8, y_pred=y_pred_8)"
   ]
  },
  {
   "cell_type": "code",
   "execution_count": 58,
   "metadata": {},
   "outputs": [],
   "source": [
    "# calculate error metrics v.s. different threshholds \n",
    "from sklearn.metrics import roc_curve\n",
    "\n",
    "y_score_8 = sgd_clf.decision_function(X_test)\n",
    "\n",
    "fpr, tpr, threshholds = roc_curve(y_true=y_test_8, y_score=y_score_8)"
   ]
  },
  {
   "cell_type": "code",
   "execution_count": 62,
   "metadata": {},
   "outputs": [],
   "source": [
    "# visualize error metrics and threshhold\n",
    "def vis_performance(threshholds, metric1, metric2):\n",
    "    \n",
    "    plt.plot(threshholds, metric1)\n",
    "    plt.plot(threshholds, metric2)"
   ]
  },
  {
   "cell_type": "code",
   "execution_count": 59,
   "metadata": {},
   "outputs": [],
   "source": [
    "# calculare different scoring metrics\n",
    "def assess_performance(y_true, y_pred):\n",
    "    \"\"\"calculates the different classification \n",
    "    metrics for binary classification\n",
    "\n",
    "    Args:\n",
    "        y_true (itterable): array of {0, 1} \n",
    "        y_pred (itterable): array of predicted {0, 1}\n",
    "    \"\"\"\n",
    "    conf_mtrx = confusion_matrix(y_true, y_pred)\n",
    "    \n",
    "    # marginal sums\n",
    "    n_positive = conf_mtrx[0, :]\n",
    "    n_negative = conf_mtrx[1, :]\n",
    "    \n",
    "    n_pred_positive = conf_mtrx[:, 0]\n",
    "    n_pred_negative = conf_mtrx[:, 1]\n",
    "    \n",
    "    # positives\n",
    "    tp = conf_mtrx[0, 0]\n",
    "    fn = conf_mtrx[0, 1]\n",
    "    \n",
    "    # negatives\n",
    "    tn = conf_mtrx[1, 0]\n",
    "    fp = conf_mtrx[1, 1]\n",
    "    \n",
    "    metrics = {}\n",
    "    \n",
    "    # recall\n",
    "    metrics['tp/p'] = tp / n_positive\n",
    "    # 1 - recall\n",
    "    metrics['fn/p'] = fn / n_positive\n",
    "    \n",
    "    # 1 - percision\n",
    "    metrics['fp/g'] = fp / n_pred_positive\n",
    "    # percision\n",
    "    metrics['tp/g'] = tp / n_pred_positive\n",
    "    \n",
    "    # specificity!!\n",
    "    metrics['tn/n'] = tn / n_negative\n",
    "    metrics['fn/n'] = fn / n_negative\n",
    "    \n",
    "    # !!\n",
    "    metrics['tn/b'] = tn / n_pred_negative\n",
    "    metrics['fn/b'] = fn / n_pred_negative\n",
    "    \n",
    "    return metrics"
   ]
  },
  {
   "cell_type": "code",
   "execution_count": 64,
   "metadata": {},
   "outputs": [],
   "source": [
    "metrics = assess_performance(y_test_8, y_pred_8)"
   ]
  },
  {
   "cell_type": "code",
   "execution_count": null,
   "metadata": {},
   "outputs": [],
   "source": []
  }
 ],
 "metadata": {
  "kernelspec": {
   "display_name": "Python 3",
   "language": "python",
   "name": "python3"
  },
  "language_info": {
   "codemirror_mode": {
    "name": "ipython",
    "version": 3
   },
   "file_extension": ".py",
   "mimetype": "text/x-python",
   "name": "python",
   "nbconvert_exporter": "python",
   "pygments_lexer": "ipython3",
   "version": "3.8.8"
  },
  "orig_nbformat": 4,
  "vscode": {
   "interpreter": {
    "hash": "f377678b927e69392be3d32c4a144c48b4fcf75b53b3b6aab14c8f5b0aeaa57a"
   }
  }
 },
 "nbformat": 4,
 "nbformat_minor": 2
}
